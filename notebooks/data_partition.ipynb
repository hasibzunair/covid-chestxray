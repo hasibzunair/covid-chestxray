{
 "cells": [
  {
   "cell_type": "markdown",
   "metadata": {},
   "source": [
    "### Partition data for cyclegan"
   ]
  },
  {
   "cell_type": "code",
   "execution_count": null,
   "metadata": {},
   "outputs": [],
   "source": [
    "import os, sys\n",
    "import scipy\n",
    "from glob import glob\n",
    "import numpy as np\n",
    "import random \n",
    "import shutil \n",
    "\n",
    "base_path = os.path.abspath(\"../\")\n",
    "\n",
    "sys.path.append(base_path)\n",
    "import helpers"
   ]
  },
  {
   "cell_type": "code",
   "execution_count": null,
   "metadata": {},
   "outputs": [],
   "source": [
    "# Image paths\n",
    "cov19 = os.path.join(base_path, \"dataset/cxr/train/cov19\")\n",
    "normal = os.path.join(base_path, \"dataset/cxr/train/normal\")\n",
    "pneu = os.path.join(base_path, \"dataset/cxr/train/pneumonia\")\n",
    "\n",
    "\n",
    "# Destinations\n",
    "\n",
    "# Normal to COVID: n2c\n",
    "normal_dest = os.path.join(base_path, \"dataset/translation/n2c/trainA\")\n",
    "cov19_dest1 = os.path.join(base_path, \"dataset/translation/n2c/trainB\")\n",
    "\n",
    "# Pneumonia to COVID: p2c\n",
    "pneu_dest = os.path.join(base_path, \"dataset/translation/p2c/trainA\")\n",
    "cov19_dest2 = os.path.join(base_path, \"dataset/translation/p2c/trainB\")"
   ]
  },
  {
   "cell_type": "code",
   "execution_count": null,
   "metadata": {},
   "outputs": [],
   "source": [
    "helpers.create_directory(normal_dest)\n",
    "helpers.create_directory(cov19_dest1)\n",
    "helpers.create_directory(pneu_dest)\n",
    "helpers.create_directory(cov19_dest2)"
   ]
  },
  {
   "cell_type": "code",
   "execution_count": null,
   "metadata": {},
   "outputs": [],
   "source": [
    "len(os.listdir(cov19)), len(os.listdir(normal))"
   ]
  },
  {
   "cell_type": "code",
   "execution_count": null,
   "metadata": {},
   "outputs": [],
   "source": [
    "len(os.listdir(cov19)), len(os.listdir(pneu))"
   ]
  },
  {
   "cell_type": "code",
   "execution_count": null,
   "metadata": {},
   "outputs": [],
   "source": [
    "# slicing index should be the minmum number across all the dataset classes\n",
    "\n",
    "cov19_path = [os.path.join(cov19, x) for x in os.listdir(cov19)]\n",
    "normal_path = [os.path.join(normal, x) for x in os.listdir(normal)]\n",
    "pneu_path = [os.path.join(pneu, x) for x in os.listdir(pneu)]\n",
    "\n",
    "len(cov19_path), len(normal_path), len(pneu_path)"
   ]
  },
  {
   "cell_type": "code",
   "execution_count": null,
   "metadata": {},
   "outputs": [],
   "source": [
    "random.shuffle(normal_path)\n",
    "random.shuffle(pneu_path)"
   ]
  },
  {
   "cell_type": "code",
   "execution_count": null,
   "metadata": {},
   "outputs": [],
   "source": [
    "normal_path[:3]"
   ]
  },
  {
   "cell_type": "code",
   "execution_count": null,
   "metadata": {},
   "outputs": [],
   "source": [
    "normal_path = normal_path[:180]\n",
    "pneu_path = pneu_path[:180]\n",
    "\n",
    "len(cov19_path), len(normal_path), len(pneu_path)\n",
    "\n",
    "# Should have 180"
   ]
  },
  {
   "cell_type": "code",
   "execution_count": null,
   "metadata": {},
   "outputs": [],
   "source": [
    "# n2c\n",
    "\n",
    "for file in normal_path:\n",
    "    shutil.copy(file, normal_dest)\n",
    "    \n",
    "for file in cov19_path:\n",
    "    shutil.copy(file, cov19_dest1)"
   ]
  },
  {
   "cell_type": "code",
   "execution_count": null,
   "metadata": {},
   "outputs": [],
   "source": [
    "# p2c\n",
    "\n",
    "for file in cov19_path:\n",
    "    shutil.copy(file, cov19_dest2)\n",
    "    \n",
    "for file in pneu_path:\n",
    "    shutil.copy(file, pneu_dest)"
   ]
  },
  {
   "cell_type": "code",
   "execution_count": null,
   "metadata": {},
   "outputs": [],
   "source": []
  },
  {
   "cell_type": "code",
   "execution_count": null,
   "metadata": {},
   "outputs": [],
   "source": []
  }
 ],
 "metadata": {
  "kernelspec": {
   "display_name": "Python 3",
   "language": "python",
   "name": "python3"
  },
  "language_info": {
   "codemirror_mode": {
    "name": "ipython",
    "version": 3
   },
   "file_extension": ".py",
   "mimetype": "text/x-python",
   "name": "python",
   "nbconvert_exporter": "python",
   "pygments_lexer": "ipython3",
   "version": "3.6.10"
  }
 },
 "nbformat": 4,
 "nbformat_minor": 4
}

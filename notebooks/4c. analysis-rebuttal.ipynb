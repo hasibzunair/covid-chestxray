{
 "cells": [
  {
   "cell_type": "code",
   "execution_count": null,
   "metadata": {},
   "outputs": [],
   "source": [
    "import os, sys\n",
    "os.environ['CUDA_VISIBLE_DEVICES'] = '-1'\n",
    "\n",
    "import scipy.misc\n",
    "from glob import glob\n",
    "import numpy as np\n",
    "import random \n",
    "import shutil \n",
    "import keras\n",
    "import matplotlib.pyplot as plt\n",
    "\n",
    "base_path = os.path.abspath(\"../\")\n",
    "data_name = \"cxr\"\n",
    "\n",
    "\n",
    "sys.path.append(base_path)\n",
    "import helpers"
   ]
  },
  {
   "cell_type": "code",
   "execution_count": null,
   "metadata": {},
   "outputs": [],
   "source": [
    "def load_img(path):\n",
    "    # read image\n",
    "    img = scipy.misc.imread(path, mode='RGB').astype(np.float)\n",
    "    #  resize\n",
    "    img = scipy.misc.imresize(img, (256,256))\n",
    "    \n",
    "    # rescale to [-1, 1]\n",
    "    #img = img/127.5 - 1.\n",
    "    # rescale to [0, 1]\n",
    "    #img = img.astype(np.float32)\n",
    "    #img /= 255.0\n",
    "    \n",
    "    return img"
   ]
  },
  {
   "cell_type": "code",
   "execution_count": null,
   "metadata": {},
   "outputs": [],
   "source": [
    "# Image paths\n",
    "cov19 = os.path.join(base_path, \"dataset/{}/test/cov19\".format(data_name))\n",
    "normal = os.path.join(base_path, \"dataset/{}/test/normal\".format(data_name))\n",
    "\n",
    "print(cov19, normal)"
   ]
  },
  {
   "cell_type": "code",
   "execution_count": null,
   "metadata": {},
   "outputs": [],
   "source": [
    "cov19_path = [os.path.join(cov19, x) for x in os.listdir(cov19)]\n",
    "normal_path = [os.path.join(normal, x) for x in os.listdir(normal)]\n",
    "\n",
    "len(cov19_path), len(normal_path)"
   ]
  },
  {
   "cell_type": "code",
   "execution_count": null,
   "metadata": {},
   "outputs": [],
   "source": [
    "random.shuffle(cov19_path)\n",
    "random.shuffle(normal_path)\n",
    "\n",
    "cov19_path = cov19_path[:]\n",
    "normal_path = normal_path[:46]"
   ]
  },
  {
   "cell_type": "code",
   "execution_count": null,
   "metadata": {},
   "outputs": [],
   "source": [
    "covid19_images=np.array([load_img(path) for path in cov19_path])\n",
    "covid19_images.shape"
   ]
  },
  {
   "cell_type": "code",
   "execution_count": null,
   "metadata": {},
   "outputs": [],
   "source": [
    "normal_images=np.array([load_img(path) for path in normal_path])\n",
    "normal_images.shape"
   ]
  },
  {
   "cell_type": "code",
   "execution_count": null,
   "metadata": {},
   "outputs": [],
   "source": [
    "#---------------------------\n",
    "# cxr\n",
    "# 0 - cov\n",
    "# 1 - normal\n",
    "# 2 - pneu\n",
    "#---------------------------\n",
    "# cxr_normalvcovid\n",
    "# 0 - cov19\n",
    "# 1 - normal\n",
    "#---------------------------\n",
    "# cxr_pneucovid\n",
    "# 0 - cov19\n",
    "# 1 - pneu\n",
    "#---------------------------"
   ]
  },
  {
   "cell_type": "code",
   "execution_count": null,
   "metadata": {},
   "outputs": [],
   "source": [
    "# Normal vs Covid\n",
    "#normal_labels = np.array([1 for _ in range(len(normal_images))])\n",
    "#cov19_labels = np.array([0 for _ in range(len(covid19_images))])\n",
    "\n",
    "normal_labels = np.array([0 for _ in range(len(normal_images))])\n",
    "cov19_labels = np.array([1 for _ in range(len(covid19_images))])\n",
    "\n",
    "print(cov19_labels.shape, normal_labels.shape)\n",
    "\n",
    "x_all = np.concatenate((normal_images, covid19_images), axis=0)\n",
    "y_all = np.concatenate((normal_labels, cov19_labels), axis=0)\n",
    "y_all = keras.utils.to_categorical(y_all, 2)\n",
    "\n",
    "print(x_all.shape, y_all.shape)"
   ]
  },
  {
   "cell_type": "code",
   "execution_count": null,
   "metadata": {},
   "outputs": [],
   "source": [
    "# Standardize\n",
    "x_all = x_all.astype('float32')\n",
    "x_all /= 255"
   ]
  },
  {
   "cell_type": "code",
   "execution_count": null,
   "metadata": {},
   "outputs": [],
   "source": [
    "from keras.models import load_model\n",
    "\n",
    "EXPERIMENT_NAME =  \"cxr_normalvcovid+g1g2\" \n",
    "LOG_PATH = os.path.join(base_path, \"models\", EXPERIMENT_NAME)\n",
    "model = None\n",
    "model = load_model(\"{}/{}.h5\".format(LOG_PATH, EXPERIMENT_NAME), compile = False)\n",
    "model.summary()"
   ]
  },
  {
   "cell_type": "code",
   "execution_count": null,
   "metadata": {},
   "outputs": [],
   "source": [
    "plt.imshow(x_all[0])"
   ]
  },
  {
   "cell_type": "code",
   "execution_count": null,
   "metadata": {},
   "outputs": [],
   "source": [
    "#y_pred = []\n",
    "#for img in x_all:\n",
    "#    img = np.expand_dims(img, axis=0)\n",
    "#    prob = model.predict(img, verbose=1)\n",
    "#    y_pred.append(prob)\n",
    "    \n",
    "#y_pred = np.array(y_pred)\n",
    "#y_pred.shape"
   ]
  },
  {
   "cell_type": "code",
   "execution_count": null,
   "metadata": {},
   "outputs": [],
   "source": [
    "# Make predictions using trained model\n",
    "y_pred = model.predict(x_all, verbose=1)\n",
    "print(\"Predictions: \", y_pred.shape)"
   ]
  },
  {
   "cell_type": "code",
   "execution_count": null,
   "metadata": {},
   "outputs": [],
   "source": [
    "# Convert ground truth to column values\n",
    "y_test_flat = np.argmax(y_all, axis=1)\n",
    "print(\"After flattening ground truth: \", y_test_flat.shape)\n",
    "\n",
    "# Get labels from predictions\n",
    "y_pred_flat = np.array([np.argmax(pred) for pred in y_pred]) # y_pred[1] -> probability for class 1 \n",
    "print(\"Binarize probability values: \", y_pred_flat.shape)\n",
    "\n",
    "assert y_pred_flat.shape == y_test_flat.shape, \"Shape mismatch!\""
   ]
  },
  {
   "cell_type": "code",
   "execution_count": null,
   "metadata": {},
   "outputs": [],
   "source": [
    "y_test_flat"
   ]
  },
  {
   "cell_type": "code",
   "execution_count": null,
   "metadata": {},
   "outputs": [],
   "source": [
    "y_pred_flat"
   ]
  },
  {
   "cell_type": "code",
   "execution_count": null,
   "metadata": {},
   "outputs": [],
   "source": [
    "def deprocess_image(x):\n",
    "    \"\"\"Same normalization as in:\n",
    "    https://github.com/fchollet/keras/blob/master/examples/conv_filter_visualization.py\n",
    "    \"\"\"\n",
    "    x = x.copy()\n",
    "    if np.ndim(x) > 3:\n",
    "        x = np.squeeze(x)\n",
    "    # normalize tensor: center on 0., ensure std is 0.1\n",
    "    x -= x.mean()\n",
    "    x /= (x.std() + 1e-5)\n",
    "    x *= 0.1\n",
    "\n",
    "    # clip to [0, 1]\n",
    "    x += 0.5\n",
    "    x = np.clip(x, 0, 1)\n",
    "\n",
    "    # convert to RGB array\n",
    "    x *= 255\n",
    "    if K.image_data_format() == 'th': #keras.backend.image_data_format()\n",
    "        x = x.transpose((1, 2, 0))\n",
    "    x = np.clip(x, 0, 255).astype('uint8')\n",
    "    return x\n",
    "\n",
    "\n",
    "def normalize(x):\n",
    "    \"\"\"Utility function to normalize a tensor by its L2 norm\"\"\"\n",
    "    return (x + 1e-10) / (K.sqrt(K.mean(K.square(x))) + 1e-10)\n",
    "\n",
    "\n",
    "def get_heatmap(gc):\n",
    "  \"\"\"Convert 2D heatmap to 3D for plotting\"\"\"\n",
    "  # Get the color map\n",
    "  cm = plt.get_cmap('jet')\n",
    "  # Apply the colormap like a function to any array:\n",
    "  gc3 = cm(gc)\n",
    "  gc3 = gc3[:, :, :3].astype('float32') \n",
    "  return gc3\n",
    "\n",
    "def grad_cam(input_model, image, cls, layer_name):\n",
    "    \"\"\"GradCAM method for visualizing input saliency.\"\"\"\n",
    "    y_c = input_model.output[0, cls]\n",
    "    conv_output = input_model.get_layer(layer_name).output\n",
    "    grads = K.gradients(y_c, conv_output)[0]\n",
    "    # Normalize if necessary\n",
    "    # grads = normalize(grads)\n",
    "    gradient_function = K.function([input_model.input], [conv_output, grads])\n",
    "\n",
    "    output, grads_val = gradient_function([image])\n",
    "    output, grads_val = output[0, :], grads_val[0, :, :, :]\n",
    "\n",
    "    weights = np.mean(grads_val, axis=(0, 1))\n",
    "    cam = np.dot(output, weights)\n",
    "\n",
    "    # Process CAM\n",
    "    cam = cv2.resize(cam, (256, 256), cv2.INTER_LINEAR)\n",
    "    cam = np.maximum(cam, 0)\n",
    "    cam = cam / cam.max()\n",
    "    return cam\n"
   ]
  },
  {
   "cell_type": "code",
   "execution_count": null,
   "metadata": {},
   "outputs": [],
   "source": [
    "from tqdm import tqdm\n",
    "import keras.backend as K\n",
    "import cv2\n",
    "\n",
    "x_test = x_all\n",
    "\n",
    "missclass_1 = []\n",
    "\n",
    "for i in tqdm(range(len(y_test_flat))):\n",
    "  # if predicted is 0 and actual is 1\n",
    "  if y_pred_flat[i] == 1 and y_test_flat[i] == 1:\n",
    "    missclass_1.append(x_test[i])\n",
    "\n",
    "print(len(missclass_1))\n",
    "# take first 10 missclassified sampels\n",
    "missclass_1 = np.array(missclass_1[:5])\n",
    "\n",
    "print(\"Number of missclassified samples:\", missclass_1.shape)\n",
    "\n",
    "\n",
    "missclass_1_gcam = []\n",
    "\n",
    "for ms in tqdm(missclass_1):\n",
    "  ms = np.expand_dims(ms, axis=0)\n",
    "  # grad cam\n",
    "  gc = grad_cam(model, ms, -1, 'block5_conv3')\n",
    "  # convert to 3D\n",
    "  gc = get_heatmap(gc)\n",
    "  missclass_1_gcam.append(gc)\n",
    "\n",
    "missclass_1_gcam = np.array(missclass_1_gcam)\n",
    "\n",
    "print(\"Number of missclassified gradcam samples:\", missclass_1_gcam.shape)"
   ]
  },
  {
   "cell_type": "code",
   "execution_count": null,
   "metadata": {},
   "outputs": [],
   "source": []
  },
  {
   "cell_type": "code",
   "execution_count": null,
   "metadata": {},
   "outputs": [],
   "source": [
    "from numpy.random import rand\n",
    "import matplotlib.pyplot as plt\n",
    "\n",
    "results = np.concatenate((missclass_1, missclass_1_gcam), axis=0)\n",
    "\n",
    "x = results\n",
    "a, b = 2, 5\n",
    "x = np.reshape(x, (a, b, 256, 256, 3))\n",
    "\n",
    "test_data = x\n",
    "r, c = test_data.shape[0], test_data.shape[1]\n",
    "cmaps = [['viridis', 'binary'], ['plasma', 'coolwarm'], ['Greens', 'copper']]\n",
    "\n",
    "heights = [a[0].shape[0] for a in test_data]\n",
    "widths = [a.shape[1] for a in test_data[0]]\n",
    "\n",
    "fig_width = 15.  # inches\n",
    "fig_height = fig_width * sum(heights) / sum(widths)\n",
    "\n",
    "f, axarr = plt.subplots(r,c, figsize=(fig_width, fig_height),\n",
    "        gridspec_kw={'height_ratios':heights})\n",
    "\n",
    "for i in range(r):\n",
    "    for j in range(c):\n",
    "        axarr[i, j].imshow(test_data[i][j])\n",
    "        axarr[i, j].axis('off')\n",
    "\n",
    "plt.subplots_adjust(wspace=0, hspace=0, left=0, right=1, bottom=0, top=1)\n",
    "plt.savefig(\"{}/models/{}/true_covid.pdf\".format(base_path, EXPERIMENT_NAME), dpi=300)\n",
    "plt.show()"
   ]
  },
  {
   "cell_type": "code",
   "execution_count": null,
   "metadata": {},
   "outputs": [],
   "source": []
  }
 ],
 "metadata": {
  "kernelspec": {
   "display_name": "Python 3",
   "language": "python",
   "name": "python3"
  },
  "language_info": {
   "codemirror_mode": {
    "name": "ipython",
    "version": 3
   },
   "file_extension": ".py",
   "mimetype": "text/x-python",
   "name": "python",
   "nbconvert_exporter": "python",
   "pygments_lexer": "ipython3",
   "version": "3.6.10"
  }
 },
 "nbformat": 4,
 "nbformat_minor": 4
}

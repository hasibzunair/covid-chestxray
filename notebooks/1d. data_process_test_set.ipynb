{
 "cells": [
  {
   "cell_type": "markdown",
   "metadata": {},
   "source": [
    "### Make numpy arrays of test data"
   ]
  },
  {
   "cell_type": "code",
   "execution_count": null,
   "metadata": {},
   "outputs": [],
   "source": [
    "import os, sys\n",
    "import scipy.misc\n",
    "from glob import glob\n",
    "import numpy as np\n",
    "import random \n",
    "import shutil \n",
    "import keras\n",
    "import matplotlib.pyplot as plt\n",
    "\n",
    "base_path = os.path.abspath(\"../\")\n",
    "\n",
    "sys.path.append(base_path)\n",
    "import helpers"
   ]
  },
  {
   "cell_type": "code",
   "execution_count": null,
   "metadata": {},
   "outputs": [],
   "source": [
    "def load_img(path):\n",
    "    # read image\n",
    "    img = scipy.misc.imread(path, mode='RGB').astype(np.float)\n",
    "    #  resize\n",
    "    img = scipy.misc.imresize(img, (512,512))\n",
    "    \n",
    "    # rescale to [-1, 1]\n",
    "    #img = img/127.5 - 1.\n",
    "    # rescale to [0, 1]\n",
    "    #img /= 255.0\n",
    "    \n",
    "    return img"
   ]
  },
  {
   "cell_type": "code",
   "execution_count": null,
   "metadata": {},
   "outputs": [],
   "source": [
    "# Image paths\n",
    "cov19 = os.path.join(base_path, \"dataset/cxr/test/cov19\")\n",
    "normal = os.path.join(base_path, \"dataset/cxr/test/normal\")\n",
    "pneu = os.path.join(base_path, \"dataset/cxr/test/pneumonia\")\n",
    "\n",
    "\n",
    "# Destinations\n",
    "\n",
    "# Normal to COVID: n2c\n",
    "dest_path = os.path.join(base_path, \"dataset/numpy/\")\n",
    "helpers.create_directory(dest_path)"
   ]
  },
  {
   "cell_type": "code",
   "execution_count": null,
   "metadata": {},
   "outputs": [],
   "source": [
    "cov19_path = [os.path.join(cov19, x) for x in os.listdir(cov19)]\n",
    "normal_path = [os.path.join(normal, x) for x in os.listdir(normal)]\n",
    "pneu_path = [os.path.join(pneu, x) for x in os.listdir(pneu)]\n",
    "\n",
    "len(cov19_path), len(normal_path), len(pneu_path)"
   ]
  },
  {
   "cell_type": "code",
   "execution_count": null,
   "metadata": {},
   "outputs": [],
   "source": [
    "covid19_images=np.array([load_img(path) for path in cov19_path])\n",
    "covid19_images.shape"
   ]
  },
  {
   "cell_type": "code",
   "execution_count": null,
   "metadata": {},
   "outputs": [],
   "source": [
    "normal_images=np.array([load_img(path) for path in normal_path])\n",
    "normal_images.shape"
   ]
  },
  {
   "cell_type": "code",
   "execution_count": null,
   "metadata": {},
   "outputs": [],
   "source": [
    "pneu_images=np.array([load_img(path) for path in pneu_path])\n",
    "pneu_images.shape"
   ]
  },
  {
   "cell_type": "code",
   "execution_count": null,
   "metadata": {},
   "outputs": [],
   "source": [
    "#---------------------------\n",
    "# cxr\n",
    "# 0 - cov\n",
    "# 1 - normal\n",
    "# 2 - pneu\n",
    "#---------------------------\n",
    "# cxr_normalvcovid\n",
    "# 0 - cov19\n",
    "# 1 - normal\n",
    "#---------------------------\n",
    "# cxr_pneucovid\n",
    "# 0 - cov19\n",
    "# 1 - pneu\n",
    "#---------------------------"
   ]
  },
  {
   "cell_type": "code",
   "execution_count": null,
   "metadata": {},
   "outputs": [],
   "source": [
    "# Normal vs Covid\n",
    "normal_labels = np.array([1 for _ in range(len(normal_images))])\n",
    "cov19_labels = np.array([0 for _ in range(len(covid19_images))])\n",
    "\n",
    "print(cov19_labels.shape, normal_labels.shape)\n",
    "\n",
    "x_all = np.concatenate((covid19_images, normal_images), axis=0)\n",
    "y_all = np.concatenate((cov19_labels, normal_labels), axis=0)\n",
    "y_all = keras.utils.to_categorical(y_all, 2)\n",
    "\n",
    "print(x_all.shape, y_all.shape)\n",
    "\n",
    "# only test set\n",
    "np.save(\"{}/test_nvc_512.npy\".format(dest_path), x_all)\n",
    "np.save(\"{}/test_nvc_512_labels.npy\".format(dest_path), y_all)"
   ]
  },
  {
   "cell_type": "code",
   "execution_count": null,
   "metadata": {},
   "outputs": [],
   "source": []
  },
  {
   "cell_type": "code",
   "execution_count": null,
   "metadata": {},
   "outputs": [],
   "source": [
    "# Pneu vs Covid\n",
    "pneu_labels = np.array([1 for _ in range(len(pneu_images))])\n",
    "cov19_labels = np.array([0 for _ in range(len(covid19_images))])\n",
    "\n",
    "print(cov19_labels.shape, pneu_labels.shape)\n",
    "\n",
    "x_all = np.concatenate((covid19_images, pneu_images), axis=0)\n",
    "y_all = np.concatenate((cov19_labels, pneu_labels), axis=0)\n",
    "y_all = keras.utils.to_categorical(y_all, 2)\n",
    "print(x_all.shape, y_all.shape)\n",
    "\n",
    "# only train and test set\n",
    "np.save(\"{}/test_pvc_512.npy\".format(dest_path), x_all)\n",
    "np.save(\"{}/test_pvc_512_labels.npy\".format(dest_path), y_all)"
   ]
  },
  {
   "cell_type": "code",
   "execution_count": null,
   "metadata": {},
   "outputs": [],
   "source": []
  },
  {
   "cell_type": "code",
   "execution_count": null,
   "metadata": {},
   "outputs": [],
   "source": [
    "# Normal vs Pneu vs Covid\n",
    "normal_labels = np.array([1 for _ in range(len(normal_images))])\n",
    "pneu_labels = np.array([2 for _ in range(len(pneu_images))])\n",
    "cov19_labels = np.array([0 for _ in range(len(covid19_images))])\n",
    "\n",
    "print(cov19_labels.shape, pneu_labels.shape, normal_labels.shape)\n",
    "\n",
    "x_all = np.concatenate((normal_images, pneu_images, covid19_images), axis=0)\n",
    "y_all = np.concatenate((normal_labels, pneu_labels, cov19_labels), axis=0)\n",
    "print(x_all.shape, y_all.shape)\n",
    "\n",
    "# only train and test set\n",
    "np.save(\"{}/test_all.npy\".format(dest_path), x_all)\n",
    "np.save(\"{}/test_all_labels.npy\".format(dest_path), y_all)"
   ]
  },
  {
   "cell_type": "code",
   "execution_count": null,
   "metadata": {},
   "outputs": [],
   "source": []
  },
  {
   "cell_type": "code",
   "execution_count": null,
   "metadata": {},
   "outputs": [],
   "source": []
  },
  {
   "cell_type": "code",
   "execution_count": null,
   "metadata": {},
   "outputs": [],
   "source": []
  }
 ],
 "metadata": {
  "kernelspec": {
   "display_name": "Python 3",
   "language": "python",
   "name": "python3"
  },
  "language_info": {
   "codemirror_mode": {
    "name": "ipython",
    "version": 3
   },
   "file_extension": ".py",
   "mimetype": "text/x-python",
   "name": "python",
   "nbconvert_exporter": "python",
   "pygments_lexer": "ipython3",
   "version": "3.6.10"
  }
 },
 "nbformat": 4,
 "nbformat_minor": 4
}

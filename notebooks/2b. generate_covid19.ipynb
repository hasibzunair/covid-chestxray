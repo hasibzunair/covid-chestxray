{
 "cells": [
  {
   "cell_type": "code",
   "execution_count": null,
   "metadata": {},
   "outputs": [],
   "source": [
    "import os, sys\n",
    "import scipy.misc\n",
    "from glob import glob\n",
    "import numpy as np\n",
    "import random \n",
    "import shutil \n",
    "import cv2\n",
    "import matplotlib.pyplot as plt\n",
    "from keras.models import load_model\n",
    "from keras_contrib.layers.normalization.instancenormalization import InstanceNormalization\n",
    "\n",
    "\n",
    "base_path = os.path.abspath(\"../\")\n",
    "\n",
    "sys.path.append(base_path)\n",
    "import helpers"
   ]
  },
  {
   "cell_type": "code",
   "execution_count": null,
   "metadata": {},
   "outputs": [],
   "source": [
    "def predict(model, img):\n",
    "    \n",
    "    if img.shape[0] != 256:\n",
    "        img = scipy.misc.imresize(img, (256,256))\n",
    "    \n",
    "    # Normalize image as the trained distribution\n",
    "    img = img/127.5 - 1.\n",
    "    \n",
    "    img = np.expand_dims(img, axis=0)\n",
    "    img = model.predict(img)\n",
    "    img = np.squeeze(img, axis=0)\n",
    "    \n",
    "    # Rescale to [0,1]\n",
    "    img = 0.5 * img + 0.5 \n",
    "    # Comment if display\n",
    "    #img = img * 255.0\n",
    "    return img\n",
    "\n",
    "\n",
    "def load_img(path):\n",
    "    # read image\n",
    "    img = scipy.misc.imread(path, mode='RGB').astype(np.float)\n",
    "    # predict\n",
    "    img = predict(model, img)\n",
    "    return img \n",
    "\n",
    "\n",
    "def load_img_both(path):\n",
    "    # read image\n",
    "    dim = 256\n",
    "    img = scipy.misc.imread(path, mode='RGB').astype(np.float)\n",
    "    img_ = scipy.misc.imresize(img, (dim,dim))\n",
    "    # predict\n",
    "    img_pred = predict(model, img)\n",
    "    return img_, img_pred"
   ]
  },
  {
   "cell_type": "code",
   "execution_count": null,
   "metadata": {},
   "outputs": [],
   "source": [
    "name = \"n2c\"\n",
    "base_path = os.path.abspath(\"../\")\n",
    "model_path = os.path.join(base_path, \"models\", name)\n",
    "\n",
    "# Load translation model\n",
    "model = None\n",
    "model_name = 'n2c.h5'\n",
    "model = load_model(os.path.join(model_path, model_name), custom_objects={'InstanceNormalization':InstanceNormalization})\n",
    "model.summary()"
   ]
  },
  {
   "cell_type": "code",
   "execution_count": null,
   "metadata": {},
   "outputs": [],
   "source": [
    "# Image paths\n",
    "normal = os.path.join(base_path, \"dataset/cxr/train/normal\")\n",
    "pneu = os.path.join(base_path, \"dataset/cxr/train/pneumonia\")\n",
    "\n",
    "# Destinations\n",
    "dest_path1 = os.path.join(base_path, \"dataset/gen/from_normal_512\")\n",
    "dest_path2 = os.path.join(base_path, \"dataset/gen/from_pneu_512\")\n",
    "\n",
    "helpers.create_directory(dest_path1)\n",
    "helpers.create_directory(dest_path2)"
   ]
  },
  {
   "cell_type": "code",
   "execution_count": null,
   "metadata": {},
   "outputs": [],
   "source": [
    "normal_path = [os.path.join(normal, x) for x in os.listdir(normal)]\n",
    "pneu_path = [os.path.join(pneu, x) for x in os.listdir(pneu)]\n",
    "\n",
    "len(normal_path), len(pneu_path)"
   ]
  },
  {
   "cell_type": "code",
   "execution_count": null,
   "metadata": {},
   "outputs": [],
   "source": [
    "normal_path[:3]"
   ]
  },
  {
   "cell_type": "code",
   "execution_count": null,
   "metadata": {},
   "outputs": [],
   "source": []
  },
  {
   "cell_type": "code",
   "execution_count": null,
   "metadata": {},
   "outputs": [],
   "source": []
  },
  {
   "cell_type": "code",
   "execution_count": null,
   "metadata": {},
   "outputs": [],
   "source": []
  },
  {
   "cell_type": "code",
   "execution_count": null,
   "metadata": {},
   "outputs": [],
   "source": [
    "orig = []\n",
    "syn = []\n",
    "\n",
    "import random\n",
    "random.shuffle(normal_path)\n",
    "\n",
    "for path in normal_path[:20]:\n",
    "    img, pred = load_img_both(path)\n",
    "    orig.append(img)\n",
    "    syn.append(pred)\n",
    "    \n",
    "orig = np.array(orig)\n",
    "syn = np.array(syn)"
   ]
  },
  {
   "cell_type": "code",
   "execution_count": null,
   "metadata": {},
   "outputs": [],
   "source": [
    "orig.shape, syn.shape"
   ]
  },
  {
   "cell_type": "code",
   "execution_count": null,
   "metadata": {},
   "outputs": [],
   "source": [
    "x = orig[:20]\n",
    "y = syn[:20]\n",
    "\n",
    "\n",
    "xa = x[3]\n",
    "xb = y[3]\n",
    "\n",
    "dim = 256\n",
    "a, b = 2, 10\n",
    "x = np.reshape(x, (a, b, dim, dim, 3))\n",
    "y = np.reshape(y, (a, b, dim, dim, 3))\n",
    "\n",
    "from numpy.random import rand\n",
    "import matplotlib.pyplot as plt\n",
    "\n",
    "test_data = x\n",
    "r, c = test_data.shape[0], test_data.shape[1]\n",
    "cmaps = [['viridis', 'binary'], ['plasma', 'coolwarm'], ['Greens', 'copper']]\n",
    "\n",
    "heights = [a[0].shape[0] for a in test_data]\n",
    "widths = [a.shape[1] for a in test_data[0]]\n",
    "\n",
    "fig_width = 15.  # inches\n",
    "fig_height = fig_width * sum(heights) / sum(widths)\n",
    "\n",
    "f, axarr = plt.subplots(r,c, figsize=(fig_width, fig_height),\n",
    "        gridspec_kw={'height_ratios':heights})\n",
    "\n",
    "for i in range(r):\n",
    "    for j in range(c):\n",
    "        axarr[i, j].imshow(test_data[i][j])\n",
    "        axarr[i, j].axis('off')\n",
    "plt.subplots_adjust(wspace=0.02, hspace=0, left=0, right=1, bottom=0, top=1)\n",
    "plt.savefig('{}/{}.pdf'.format(base_path, \"normal_256\"), dpi=150)\n",
    "plt.show()"
   ]
  },
  {
   "cell_type": "code",
   "execution_count": null,
   "metadata": {},
   "outputs": [],
   "source": []
  },
  {
   "cell_type": "code",
   "execution_count": null,
   "metadata": {},
   "outputs": [],
   "source": [
    "fig, (ax1, ax2) = plt.subplots(1, 2)\n",
    "fig.suptitle('Normal \\u27F6 COVID-19', size=16, y=0.93)\n",
    "fig.subplots_adjust(wspace=0.02, hspace=0, left=0, right=1, bottom=0, top=1)\n",
    "ax1.imshow(xa)\n",
    "ax1.axis('off')\n",
    "ax2.imshow(xb)\n",
    "ax2.axis('off')\n",
    "plt.savefig('{}/{}.pdf'.format(base_path, \"single_nvc\"), dpi=150)\n",
    "plt.show()"
   ]
  },
  {
   "cell_type": "code",
   "execution_count": null,
   "metadata": {},
   "outputs": [],
   "source": [
    "\n"
   ]
  },
  {
   "cell_type": "code",
   "execution_count": null,
   "metadata": {},
   "outputs": [],
   "source": [
    "test_data = y\n",
    "r, c = test_data.shape[0], test_data.shape[1]\n",
    "cmaps = [['viridis', 'binary'], ['plasma', 'coolwarm'], ['Greens', 'copper']]\n",
    "\n",
    "heights = [a[0].shape[0] for a in test_data]\n",
    "widths = [a.shape[1] for a in test_data[0]]\n",
    "\n",
    "fig_width = 15.  # inches\n",
    "fig_height = fig_width * sum(heights) / sum(widths)\n",
    "\n",
    "f, axarr = plt.subplots(r,c, figsize=(fig_width, fig_height),\n",
    "        gridspec_kw={'height_ratios':heights})\n",
    "\n",
    "for i in range(r):\n",
    "    for j in range(c):\n",
    "        axarr[i, j].imshow(test_data[i][j])\n",
    "        axarr[i, j].axis('off')\n",
    "plt.subplots_adjust(wspace=0.02, hspace=0, left=0, right=1, bottom=0, top=1)\n",
    "plt.savefig('{}/{}.pdf'.format(base_path, \"normal_covid_256\"), dpi=300)\n",
    "plt.show()"
   ]
  },
  {
   "cell_type": "code",
   "execution_count": null,
   "metadata": {},
   "outputs": [],
   "source": []
  },
  {
   "cell_type": "code",
   "execution_count": null,
   "metadata": {},
   "outputs": [],
   "source": []
  },
  {
   "cell_type": "code",
   "execution_count": null,
   "metadata": {},
   "outputs": [],
   "source": []
  },
  {
   "cell_type": "markdown",
   "metadata": {},
   "source": [
    "### Save generated images"
   ]
  },
  {
   "cell_type": "code",
   "execution_count": null,
   "metadata": {},
   "outputs": [],
   "source": [
    "ct=1\n",
    "for path in normal_path[:]:\n",
    "    img = load_img(path)\n",
    "    scipy.misc.imsave(\"{}/{}.jpg\".format(dest_path1,ct), img)\n",
    "    ct+=1"
   ]
  },
  {
   "cell_type": "code",
   "execution_count": null,
   "metadata": {},
   "outputs": [],
   "source": [
    "name = \"p2c\"\n",
    "base_path = os.path.abspath(\"../\")\n",
    "model_path = os.path.join(base_path, \"models\", name)\n",
    "\n",
    "# Load translation model\n",
    "model = None\n",
    "model_name = 'p2c.h5'\n",
    "model = load_model(os.path.join(model_path, model_name), custom_objects={'InstanceNormalization':InstanceNormalization})\n",
    "model.summary()"
   ]
  },
  {
   "cell_type": "markdown",
   "metadata": {},
   "source": [
    "### Save generated images"
   ]
  },
  {
   "cell_type": "code",
   "execution_count": null,
   "metadata": {},
   "outputs": [],
   "source": [
    "ct=1\n",
    "for path in pneu_path[:]:\n",
    "    img = load_img(path)\n",
    "    scipy.misc.imsave(\"{}/{}_g2.jpg\".format(dest_path2,ct), img)\n",
    "    ct+=1"
   ]
  },
  {
   "cell_type": "code",
   "execution_count": null,
   "metadata": {},
   "outputs": [],
   "source": [
    "orig = []\n",
    "syn = []\n",
    "\n",
    "import random\n",
    "random.shuffle(pneu_path)\n",
    "\n",
    "for path in pneu_path[:25]:\n",
    "    img, pred = load_img_both(path)\n",
    "    orig.append(img)\n",
    "    syn.append(pred)\n",
    "    \n",
    "orig = np.array(orig)\n",
    "syn = np.array(syn)"
   ]
  },
  {
   "cell_type": "code",
   "execution_count": null,
   "metadata": {},
   "outputs": [],
   "source": [
    "x = orig[:20]\n",
    "y = syn[:20]\n",
    "\n",
    "xa = x[11]\n",
    "xb = y[11]\n",
    "\n",
    "dim = 256\n",
    "a, b = 2, 10\n",
    "x = np.reshape(x, (a, b, dim, dim, 3))\n",
    "y = np.reshape(y, (a, b, dim, dim, 3))\n",
    "\n",
    "from numpy.random import rand\n",
    "import matplotlib.pyplot as plt\n",
    "\n",
    "test_data = x\n",
    "r, c = test_data.shape[0], test_data.shape[1]\n",
    "cmaps = [['viridis', 'binary'], ['plasma', 'coolwarm'], ['Greens', 'copper']]\n",
    "\n",
    "heights = [a[0].shape[0] for a in test_data]\n",
    "widths = [a.shape[1] for a in test_data[0]]\n",
    "\n",
    "fig_width = 15.  # inches\n",
    "fig_height = fig_width * sum(heights) / sum(widths)\n",
    "\n",
    "f, axarr = plt.subplots(r,c, figsize=(fig_width, fig_height),\n",
    "        gridspec_kw={'height_ratios':heights})\n",
    "\n",
    "for i in range(r):\n",
    "    for j in range(c):\n",
    "        axarr[i, j].imshow(test_data[i][j])\n",
    "        axarr[i, j].axis('off')\n",
    "plt.subplots_adjust(wspace=0.02, hspace=0, left=0, right=1, bottom=0, top=1)\n",
    "plt.savefig('{}/{}.pdf'.format(base_path, \"pneu_256\"), dpi=300)\n",
    "plt.show()"
   ]
  },
  {
   "cell_type": "code",
   "execution_count": null,
   "metadata": {},
   "outputs": [],
   "source": [
    "test_data = y\n",
    "r, c = test_data.shape[0], test_data.shape[1]\n",
    "cmaps = [['viridis', 'binary'], ['plasma', 'coolwarm'], ['Greens', 'copper']]\n",
    "\n",
    "heights = [a[0].shape[0] for a in test_data]\n",
    "widths = [a.shape[1] for a in test_data[0]]\n",
    "\n",
    "fig_width = 15.  # inches\n",
    "fig_height = fig_width * sum(heights) / sum(widths)\n",
    "\n",
    "f, axarr = plt.subplots(r,c, figsize=(fig_width, fig_height),\n",
    "        gridspec_kw={'height_ratios':heights})\n",
    "\n",
    "for i in range(r):\n",
    "    for j in range(c):\n",
    "        axarr[i, j].imshow(test_data[i][j])\n",
    "        axarr[i, j].axis('off')\n",
    "plt.subplots_adjust(wspace=0.02, hspace=0, left=0, right=1, bottom=0, top=1)\n",
    "plt.savefig('{}/{}.pdf'.format(base_path, \"pneu_covid_256\"), dpi=300)\n",
    "plt.show()"
   ]
  },
  {
   "cell_type": "code",
   "execution_count": null,
   "metadata": {},
   "outputs": [],
   "source": [
    "fig, (ax1, ax2) = plt.subplots(1, 2)\n",
    "fig.suptitle('Pneumonia \\u27F6 COVID-19', size=16, y=0.93)\n",
    "fig.subplots_adjust(wspace=0.02, hspace=0, left=0, right=1, bottom=0, top=1)\n",
    "ax1.imshow(xa)\n",
    "ax1.axis('off')\n",
    "ax2.imshow(xb)\n",
    "ax2.axis('off')\n",
    "plt.savefig('{}/{}.pdf'.format(base_path, \"single_pvc\"), dpi=150)\n",
    "plt.show()"
   ]
  },
  {
   "cell_type": "code",
   "execution_count": null,
   "metadata": {},
   "outputs": [],
   "source": []
  },
  {
   "cell_type": "code",
   "execution_count": null,
   "metadata": {},
   "outputs": [],
   "source": []
  },
  {
   "cell_type": "code",
   "execution_count": null,
   "metadata": {},
   "outputs": [],
   "source": []
  }
 ],
 "metadata": {
  "kernelspec": {
   "display_name": "Python 3",
   "language": "python",
   "name": "python3"
  },
  "language_info": {
   "codemirror_mode": {
    "name": "ipython",
    "version": 3
   },
   "file_extension": ".py",
   "mimetype": "text/x-python",
   "name": "python",
   "nbconvert_exporter": "python",
   "pygments_lexer": "ipython3",
   "version": "3.6.10"
  }
 },
 "nbformat": 4,
 "nbformat_minor": 4
}

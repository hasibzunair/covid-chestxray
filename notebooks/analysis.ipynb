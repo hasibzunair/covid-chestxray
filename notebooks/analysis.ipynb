{
 "cells": [
  {
   "cell_type": "code",
   "execution_count": null,
   "metadata": {},
   "outputs": [],
   "source": [
    "import os, sys\n",
    "import scipy.misc\n",
    "from glob import glob\n",
    "import numpy as np\n",
    "import random \n",
    "import shutil \n",
    "import keras\n",
    "import matplotlib.pyplot as plt\n",
    "\n",
    "base_path = os.path.abspath(\"../\")\n",
    "data_name = \"cxr\"\n",
    "\n",
    "\n",
    "sys.path.append(base_path)\n",
    "import helpers"
   ]
  },
  {
   "cell_type": "code",
   "execution_count": null,
   "metadata": {},
   "outputs": [],
   "source": [
    "def load_img(path):\n",
    "    # read image\n",
    "    img = scipy.misc.imread(path, mode='RGB').astype(np.float)\n",
    "    #  resize\n",
    "    img = scipy.misc.imresize(img, (256,256))\n",
    "    \n",
    "    # rescale to [-1, 1]\n",
    "    #img = img/127.5 - 1.\n",
    "    # rescale to [0, 1]\n",
    "    #img /= 255.0\n",
    "    \n",
    "    return img"
   ]
  },
  {
   "cell_type": "code",
   "execution_count": null,
   "metadata": {},
   "outputs": [],
   "source": [
    "# Image paths\n",
    "cov19 = os.path.join(base_path, \"dataset/{}/train/cov19\".format(data_name))\n",
    "normal = os.path.join(base_path, \"dataset/{}/train/normal\".format(data_name))\n",
    "\n",
    "g1 = os.path.join(base_path, \"dataset/{}/train/from_normal\".format(data_name))\n",
    "g2 = os.path.join(base_path, \"dataset/{}/train/from_pneu\".format(data_name))\n",
    "\n",
    "# Destinations\n",
    "\n",
    "# Normal to COVID: n2c\n",
    "dest_path = os.path.join(base_path, \"dataset/numpy/\")\n",
    "helpers.create_directory(dest_path)"
   ]
  },
  {
   "cell_type": "code",
   "execution_count": null,
   "metadata": {},
   "outputs": [],
   "source": [
    "cov19_path = [os.path.join(cov19, x) for x in os.listdir(cov19)]\n",
    "normal_path = [os.path.join(normal, x) for x in os.listdir(normal)]\n",
    "g1_path = [os.path.join(g1, x) for x in os.listdir(g1)]\n",
    "g2_path = [os.path.join(g2, x) for x in os.listdir(g2)]\n",
    "\n",
    "#pneu_path = [os.path.join(pneu, x) for x in os.listdir(pneu)]\n",
    "\n",
    "len(cov19_path), len(normal_path), len(g1_path), len(g2_path)"
   ]
  },
  {
   "cell_type": "code",
   "execution_count": null,
   "metadata": {},
   "outputs": [],
   "source": [
    "random.shuffle(cov19_path)\n",
    "random.shuffle(normal_path)\n",
    "random.shuffle(g1_path)\n",
    "random.shuffle(g2_path)\n",
    "\n",
    "cov19_path = cov19_path[:180]\n",
    "normal_path = normal_path[:180]\n",
    "g1_path = g1_path[:180]\n",
    "g2_path = g2_path[:180]"
   ]
  },
  {
   "cell_type": "code",
   "execution_count": null,
   "metadata": {},
   "outputs": [],
   "source": [
    "covid19_images=np.array([load_img(path) for path in cov19_path])\n",
    "covid19_images.shape"
   ]
  },
  {
   "cell_type": "code",
   "execution_count": null,
   "metadata": {},
   "outputs": [],
   "source": [
    "normal_images=np.array([load_img(path) for path in normal_path])\n",
    "normal_images.shape"
   ]
  },
  {
   "cell_type": "code",
   "execution_count": null,
   "metadata": {},
   "outputs": [],
   "source": [
    "g1_images=np.array([load_img(path) for path in g1_path])\n",
    "g1_images.shape"
   ]
  },
  {
   "cell_type": "code",
   "execution_count": null,
   "metadata": {},
   "outputs": [],
   "source": [
    "g2_images=np.array([load_img(path) for path in g2_path])\n",
    "g2_images.shape"
   ]
  },
  {
   "cell_type": "code",
   "execution_count": null,
   "metadata": {},
   "outputs": [],
   "source": [
    "#np.save(\"pneumonia.npy\", normal_images)"
   ]
  },
  {
   "cell_type": "code",
   "execution_count": null,
   "metadata": {},
   "outputs": [],
   "source": [
    "#normal_images = np.load(\"n.npy\")"
   ]
  },
  {
   "cell_type": "code",
   "execution_count": null,
   "metadata": {},
   "outputs": [],
   "source": [
    "#---------------------------\n",
    "# cxr\n",
    "# 0 - cov\n",
    "# 1 - normal\n",
    "# 2 - pneu\n",
    "#---------------------------\n",
    "# cxr_normalvcovid\n",
    "# 0 - cov19\n",
    "# 1 - normal\n",
    "#---------------------------\n",
    "# cxr_pneucovid\n",
    "# 0 - cov19\n",
    "# 1 - pneu\n",
    "#---------------------------"
   ]
  },
  {
   "cell_type": "code",
   "execution_count": null,
   "metadata": {},
   "outputs": [],
   "source": [
    "# Normal vs Covid\n",
    "#normal_labels = np.array([1 for _ in range(len(normal_images))])\n",
    "#cov19_labels = np.array([0 for _ in range(len(covid19_images))])\n",
    "\n",
    "normal_labels = np.array([0 for _ in range(len(normal_images))])\n",
    "cov19_labels = np.array([1 for _ in range(len(covid19_images))])\n",
    "g1_labels = np.array([2 for _ in range(len(g1_images))])\n",
    "g2_labels = np.array([3 for _ in range(len(g2_images))])\n",
    "\n",
    "print(cov19_labels.shape, normal_labels.shape)\n",
    "\n",
    "x_all = np.concatenate((normal_images, covid19_images, g1_images, g2_images), axis=0)\n",
    "y_all = np.concatenate((normal_labels, cov19_labels, g1_labels, g2_labels), axis=0)\n",
    "y_all = keras.utils.to_categorical(y_all, 4)\n",
    "\n",
    "print(x_all.shape, y_all.shape)\n",
    "\n",
    "# only test set\n",
    "#np.save(\"{}/{}_x.npy\".format(dest_path, data_name), x_all)\n",
    "#np.save(\"{}/{}_y.npy\".format(dest_path, data_name), y_all)"
   ]
  },
  {
   "cell_type": "code",
   "execution_count": null,
   "metadata": {},
   "outputs": [],
   "source": [
    "#x_all = np.load(\"{}/{}_x.npy\".format(dest_path, data_name))\n",
    "#y_all = np.load(\"{}/{}_y.npy\".format(dest_path, data_name))\n",
    "#x_all.shape, y_all.shape"
   ]
  },
  {
   "cell_type": "code",
   "execution_count": null,
   "metadata": {},
   "outputs": [],
   "source": [
    "from keras.models import load_model\n",
    "\n",
    "EXPERIMENT_NAME =  \"cxr_normalvcovid+g1g2\" \n",
    "LOG_PATH = os.path.join(base_path, \"models\", EXPERIMENT_NAME)\n",
    "model = None\n",
    "model = load_model(\"{}/{}.h5\".format(LOG_PATH, EXPERIMENT_NAME), compile = False)\n",
    "model.summary()"
   ]
  },
  {
   "cell_type": "code",
   "execution_count": null,
   "metadata": {},
   "outputs": [],
   "source": [
    "#from keras.applications.vgg16 import VGG16\n",
    "#base_model = VGG16(weights='imagenet',include_top=False,pooling='avg',input_shape=(256, 256, 3))\n",
    "\n",
    "#model = None\n",
    "#model = base_model\n",
    "#model.summary()"
   ]
  },
  {
   "cell_type": "code",
   "execution_count": null,
   "metadata": {},
   "outputs": [],
   "source": [
    "from keras.models import Model\n",
    "\n",
    "layer_name = 'global_average_pooling2d_1'\n",
    "intermediate_layer_model = Model(inputs=model.input,\n",
    "                                 outputs=model.get_layer(layer_name).output)\n",
    "\n",
    "intermediate_output = intermediate_layer_model.predict(x_all, verbose=1)\n",
    "intermediate_output.shape"
   ]
  },
  {
   "cell_type": "code",
   "execution_count": null,
   "metadata": {},
   "outputs": [],
   "source": [
    "intermediate_output.shape, y_all.shape"
   ]
  },
  {
   "cell_type": "code",
   "execution_count": null,
   "metadata": {},
   "outputs": [],
   "source": [
    "import umap\n",
    "import time\n",
    "from sklearn.datasets import fetch_openml\n",
    "import matplotlib.pyplot as plt\n",
    "import seaborn as sns\n",
    "\n",
    "\n",
    "np.random.seed(42)\n",
    "\n",
    "sns.set(context=\"paper\", style=\"white\")\n",
    "\n",
    "y3 = y_all\n",
    "raw_train = intermediate_output #x3\n",
    "raw_annot = y3\n",
    "\n",
    "\n",
    "print(raw_train.shape)\n",
    "raw_t_s = np.array([img.flatten() for img in raw_train])\n",
    "print(raw_t_s.shape)\n",
    "print(raw_annot.shape)\n",
    "raw_annot_flat = np.argmax(raw_annot, axis=1)\n",
    "print(raw_annot_flat.shape)\n",
    "\n",
    "raw_annot_flat_3 = raw_annot_flat\n",
    "print(np.unique(raw_annot_flat_3))\n",
    "print(raw_t_s.shape, raw_annot_flat_3.shape)\n",
    "\n",
    "\n",
    "data = raw_t_s\n",
    "\n",
    "reducer = umap.UMAP(n_neighbors=15, random_state=42)\n",
    "embedding = reducer.fit_transform(data)\n",
    "\n",
    "colour_map = raw_annot_flat_3\n",
    "\n",
    "tsneFigure = plt.figure(figsize=(12, 10))\n",
    "fig, ax = plt.subplots(figsize=(12, 10))\n",
    "\n",
    "for colour in range(2): # 1 - benign only, 2- malig benign, 3 - malig benign synth malig\n",
    "    indices = np.where(colour_map==colour)\n",
    "    indices = indices[0]\n",
    "    \n",
    "    if colour == 0:\n",
    "        l = \"Normal\"\n",
    "    if colour == 1:\n",
    "        l = \"COVID-19\"\n",
    "    if colour == 2:\n",
    "        l = \"G_NC\"\n",
    "    if colour == 3:\n",
    "        l = \"G_PC\"\n",
    "        \n",
    "    plt.setp(ax, xticks=[], yticks=[])\n",
    "    plt.scatter(embedding[:, 0][indices],\n",
    "                embedding[:, 1][indices],\n",
    "                label=l, cmap=\"Spectral\", s=50)\n",
    "    \n",
    "\n",
    "#plt.title(\"UMAP of feature space\")\n",
    "plt.legend(loc='center left', prop={'size': 15})\n",
    "plt.axis('off')\n",
    "plt.savefig(\"{}/{}_1.pdf\".format(LOG_PATH, data_name), bbox_inches = 'tight', pad_inches = 0, dpi=100)\n",
    "plt.show()"
   ]
  },
  {
   "cell_type": "code",
   "execution_count": null,
   "metadata": {},
   "outputs": [],
   "source": []
  }
 ],
 "metadata": {
  "kernelspec": {
   "display_name": "Python 3",
   "language": "python",
   "name": "python3"
  },
  "language_info": {
   "codemirror_mode": {
    "name": "ipython",
    "version": 3
   },
   "file_extension": ".py",
   "mimetype": "text/x-python",
   "name": "python",
   "nbconvert_exporter": "python",
   "pygments_lexer": "ipython3",
   "version": "3.6.10"
  }
 },
 "nbformat": 4,
 "nbformat_minor": 4
}

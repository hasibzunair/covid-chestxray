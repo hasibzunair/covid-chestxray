{
 "cells": [
  {
   "cell_type": "markdown",
   "metadata": {},
   "source": [
    "### The mighty EDA notebook\n",
    "\n"
   ]
  },
  {
   "cell_type": "code",
   "execution_count": 1,
   "metadata": {},
   "outputs": [
    {
     "name": "stderr",
     "output_type": "stream",
     "text": [
      "Using TensorFlow backend.\n"
     ]
    }
   ],
   "source": [
    "# Import libraries\n",
    "\n",
    "import os\n",
    "import matplotlib.pyplot as plt\n",
    "%matplotlib inline\n",
    "import pandas as pd\n",
    "import numpy as np\n",
    "import keras\n",
    "from sklearn.model_selection import train_test_split\n",
    "from skimage.transform import resize\n",
    "from skimage import io\n",
    "\n",
    "# Data dir\n",
    "ROOT_DIR = os.path.abspath(\"../\")\n",
    "DATASET_PATH = os.path.join(ROOT_DIR, \"dataset\")"
   ]
  },
  {
   "cell_type": "markdown",
   "metadata": {},
   "source": [
    "#### Read labels"
   ]
  },
  {
   "cell_type": "code",
   "execution_count": 2,
   "metadata": {},
   "outputs": [
    {
     "data": {
      "text/html": [
       "<div>\n",
       "<style scoped>\n",
       "    .dataframe tbody tr th:only-of-type {\n",
       "        vertical-align: middle;\n",
       "    }\n",
       "\n",
       "    .dataframe tbody tr th {\n",
       "        vertical-align: top;\n",
       "    }\n",
       "\n",
       "    .dataframe thead th {\n",
       "        text-align: right;\n",
       "    }\n",
       "</style>\n",
       "<table border=\"1\" class=\"dataframe\">\n",
       "  <thead>\n",
       "    <tr style=\"text-align: right;\">\n",
       "      <th></th>\n",
       "      <th>survival</th>\n",
       "      <th>modality</th>\n",
       "      <th>filename</th>\n",
       "    </tr>\n",
       "  </thead>\n",
       "  <tbody>\n",
       "    <tr>\n",
       "      <th>0</th>\n",
       "      <td>Y</td>\n",
       "      <td>X-ray</td>\n",
       "      <td>auntminnie-a-2020_01_28_23_51_6665_2020_01_28_...</td>\n",
       "    </tr>\n",
       "    <tr>\n",
       "      <th>1</th>\n",
       "      <td>Y</td>\n",
       "      <td>X-ray</td>\n",
       "      <td>auntminnie-b-2020_01_28_23_51_6665_2020_01_28_...</td>\n",
       "    </tr>\n",
       "    <tr>\n",
       "      <th>2</th>\n",
       "      <td>Y</td>\n",
       "      <td>X-ray</td>\n",
       "      <td>auntminnie-c-2020_01_28_23_51_6665_2020_01_28_...</td>\n",
       "    </tr>\n",
       "    <tr>\n",
       "      <th>3</th>\n",
       "      <td>Y</td>\n",
       "      <td>X-ray</td>\n",
       "      <td>auntminnie-d-2020_01_28_23_51_6665_2020_01_28_...</td>\n",
       "    </tr>\n",
       "    <tr>\n",
       "      <th>9</th>\n",
       "      <td>N</td>\n",
       "      <td>X-ray</td>\n",
       "      <td>SARS-10.1148rg.242035193-g04mr34g0-Fig8a-day0....</td>\n",
       "    </tr>\n",
       "  </tbody>\n",
       "</table>\n",
       "</div>"
      ],
      "text/plain": [
       "  survival modality                                           filename\n",
       "0        Y    X-ray  auntminnie-a-2020_01_28_23_51_6665_2020_01_28_...\n",
       "1        Y    X-ray  auntminnie-b-2020_01_28_23_51_6665_2020_01_28_...\n",
       "2        Y    X-ray  auntminnie-c-2020_01_28_23_51_6665_2020_01_28_...\n",
       "3        Y    X-ray  auntminnie-d-2020_01_28_23_51_6665_2020_01_28_...\n",
       "9        N    X-ray  SARS-10.1148rg.242035193-g04mr34g0-Fig8a-day0...."
      ]
     },
     "execution_count": 2,
     "metadata": {},
     "output_type": "execute_result"
    }
   ],
   "source": [
    "dt = pd.read_csv(os.path.join(DATASET_PATH, 'metadata.csv'))\n",
    "dt = dt[[\"survival\", \"modality\", \"filename\"]].dropna()\n",
    "dt = dt[dt.modality != \"CT\"]\n",
    "\n",
    "dt.head()"
   ]
  },
  {
   "cell_type": "code",
   "execution_count": 3,
   "metadata": {},
   "outputs": [],
   "source": [
    "# Labels\n",
    "labels = dt[[\"survival\"]].values"
   ]
  },
  {
   "cell_type": "code",
   "execution_count": 4,
   "metadata": {},
   "outputs": [
    {
     "data": {
      "text/plain": [
       "53"
      ]
     },
     "execution_count": 4,
     "metadata": {},
     "output_type": "execute_result"
    }
   ],
   "source": [
    "len(labels)"
   ]
  },
  {
   "cell_type": "code",
   "execution_count": 5,
   "metadata": {},
   "outputs": [
    {
     "data": {
      "text/plain": [
       "(53, 1)"
      ]
     },
     "execution_count": 5,
     "metadata": {},
     "output_type": "execute_result"
    }
   ],
   "source": [
    "labels.shape"
   ]
  },
  {
   "cell_type": "code",
   "execution_count": 8,
   "metadata": {},
   "outputs": [
    {
     "data": {
      "text/plain": [
       "array(['auntminnie-a-2020_01_28_23_51_6665_2020_01_28_Vietnam_coronavirus.jpeg',\n",
       "       'auntminnie-b-2020_01_28_23_51_6665_2020_01_28_Vietnam_coronavirus.jpeg',\n",
       "       'auntminnie-c-2020_01_28_23_51_6665_2020_01_28_Vietnam_coronavirus.jpeg',\n",
       "       'auntminnie-d-2020_01_28_23_51_6665_2020_01_28_Vietnam_coronavirus.jpeg',\n",
       "       'SARS-10.1148rg.242035193-g04mr34g0-Fig8a-day0.jpeg',\n",
       "       'SARS-10.1148rg.242035193-g04mr34g0-Fig8b-day5.jpeg',\n",
       "       'SARS-10.1148rg.242035193-g04mr34g0-Fig8c-day10.jpeg',\n",
       "       'SARS-10.1148rg.242035193-g04mr34g04a-Fig4a-day7.jpeg',\n",
       "       'SARS-10.1148rg.242035193-g04mr34g04b-Fig4b-day12.jpeg',\n",
       "       'SARS-10.1148rg.242035193-g04mr34g09a-Fig9a-day17.jpeg'],\n",
       "      dtype=object)"
      ]
     },
     "execution_count": 8,
     "metadata": {},
     "output_type": "execute_result"
    }
   ],
   "source": [
    "image_path = dt[\"filename\"].values\n",
    "image_path[:10]"
   ]
  },
  {
   "cell_type": "markdown",
   "metadata": {},
   "source": [
    "### Data loader"
   ]
  },
  {
   "cell_type": "code",
   "execution_count": 9,
   "metadata": {},
   "outputs": [],
   "source": [
    "# Classes for data loading and preprocessing\n",
    "class COVIDChestXRayDataset:\n",
    "    def __init__(\n",
    "            self,\n",
    "            datadir,\n",
    "            csv_path,\n",
    "            flag,\n",
    "    ):\n",
    "        \n",
    "        # Patient names in folder\n",
    "        #self.ids = sorted(os.listdir(datadir))\n",
    "        # Sorted patient names in folder\n",
    "        #self.images_fps = [os.path.join(datadir, image_id) for image_id in self.ids]\n",
    "        \n",
    "\n",
    "        # Read csv path\n",
    "        csv = pd.read_csv(os.path.join(csv_path))\n",
    "        csv = csv[[\"survival\", \"modality\", \"filename\"]].dropna()\n",
    "        csv = csv[csv.modality != \"CT\"]\n",
    "        \n",
    "        # Image names\n",
    "        self.image_names = csv[\"filename\"].values\n",
    "        \n",
    "        \n",
    "        # Get labels\n",
    "        self.labels = csv[[\"survival\"]].values\n",
    "        self.image_paths = [os.path.join(datadir, image_id) for image_id in self.image_names]\n",
    "        \n",
    "        # Split\n",
    "        train_vols, test_vols, train_labels, test_labels = train_test_split(self.image_paths, self.labels, test_size=0.20, random_state=42)\n",
    "        print(len(train_vols), len(test_vols))\n",
    "        \n",
    "        self.train_vols = train_vols\n",
    "        self.test_vols = test_vols\n",
    "        self.train_labels = train_labels\n",
    "        self.test_labels = test_labels\n",
    "        \n",
    "        if flag == \"train\":\n",
    "            self.image_paths = self.train_vols\n",
    "            self.labels = self.train_labels\n",
    "            self.ids = self.train_vols\n",
    "            \n",
    "        else:\n",
    "            self.image_paths = self.test_vols\n",
    "            self.labels = self.test_labels\n",
    "            self.ids = self.test_vols\n",
    "        \n",
    "        \n",
    "    def __getitem__(self, i):\n",
    "        \n",
    "        # Read data\n",
    "        img = io.imread(self.image_paths[i])\n",
    "        img = resize(img, (256, 256))\n",
    "        \n",
    "        img = img.astype(np.float32)\n",
    "        img /= 255\n",
    "        \n",
    "        # Taken from https://github.com/mlmed/torchxrayvision/blob/master/torchxrayvision/datasets.py#L814\n",
    "        # Check that images are 2D arrays\n",
    "        if len(img.shape) > 2:\n",
    "            img = img[:, :, 0]\n",
    "        if len(img.shape) < 2:\n",
    "            print(\"error, dimension lower than 2 for image\")\n",
    "\n",
    "        # Add color channel\n",
    "        img = img[:, :, None]\n",
    "        \n",
    "        # Get labels\n",
    "        gt = self.labels[i]\n",
    "        if gt == \"Y\":\n",
    "            gt = 1 # Survival: Yes\n",
    "        else:\n",
    "            gt = 0 # Survial: No\n",
    "            \n",
    "        gt = keras.utils.to_categorical(gt, 2)\n",
    "        \n",
    "        return img, gt\n",
    "        \n",
    "    def __len__(self):\n",
    "        return len(self.ids)"
   ]
  },
  {
   "cell_type": "code",
   "execution_count": 10,
   "metadata": {},
   "outputs": [],
   "source": [
    "class Dataloder(keras.utils.Sequence):\n",
    "    \"\"\"Load data from dataset and form batches\n",
    "    \n",
    "    Args:\n",
    "        dataset: instance of Dataset class for image loading and preprocessing.\n",
    "        batch_size: Integet number of images in batch.\n",
    "        shuffle: Boolean, if `True` shuffle image indexes each epoch.\n",
    "    \"\"\"\n",
    "    \n",
    "    def __init__(self, dataset, batch_size=1, shuffle=False):\n",
    "        self.dataset = dataset\n",
    "        self.batch_size = batch_size\n",
    "        self.shuffle = shuffle\n",
    "        self.indexes = np.arange(len(dataset))\n",
    "\n",
    "        self.on_epoch_end()\n",
    "\n",
    "    def __getitem__(self, i):\n",
    "        \n",
    "        # collect batch data\n",
    "        start = i * self.batch_size\n",
    "        stop = (i + 1) * self.batch_size\n",
    "        data = []\n",
    "        for j in range(start, stop):\n",
    "            data.append(self.dataset[j])\n",
    "        \n",
    "        # Transpose list of lists\n",
    "        batch = [np.stack(samples, axis=0) for samples in zip(*data)]\n",
    "        \n",
    "        return batch\n",
    "    \n",
    "    def __len__(self):\n",
    "        \"\"\"Denotes the number of batches per epoch\"\"\"\n",
    "        return len(self.indexes) // self.batch_size\n",
    "    \n",
    "    def on_epoch_end(self):\n",
    "        \"\"\"Callback function to shuffle indexes each epoch\"\"\"\n",
    "        if self.shuffle:\n",
    "            self.indexes = np.random.permutation(self.indexes)"
   ]
  },
  {
   "cell_type": "code",
   "execution_count": 11,
   "metadata": {},
   "outputs": [
    {
     "data": {
      "text/plain": [
       "'/home/hasib/covid-chestxray_/dataset/metadata.csv'"
      ]
     },
     "execution_count": 11,
     "metadata": {},
     "output_type": "execute_result"
    }
   ],
   "source": [
    "CSV_PATH = os.path.join(DATASET_PATH, \"metadata.csv\")\n",
    "CSV_PATH"
   ]
  },
  {
   "cell_type": "code",
   "execution_count": 12,
   "metadata": {},
   "outputs": [
    {
     "name": "stdout",
     "output_type": "stream",
     "text": [
      "42 11\n",
      "42 11\n"
     ]
    }
   ],
   "source": [
    "# image path, csv path\n",
    "train_dataset = COVIDChestXRayDataset(IMAGES_PATH, CSV_PATH, flag=\"train\")\n",
    "test_dataset = COVIDChestXRayDataset(IMAGES_PATH, CSV_PATH, flag=\"test\")"
   ]
  },
  {
   "cell_type": "code",
   "execution_count": 13,
   "metadata": {},
   "outputs": [
    {
     "data": {
      "text/plain": [
       "((256, 256, 1), (2,))"
      ]
     },
     "execution_count": 13,
     "metadata": {},
     "output_type": "execute_result"
    }
   ],
   "source": [
    "image, gt = train_dataset[0] \n",
    "image.shape, gt.shape"
   ]
  },
  {
   "cell_type": "code",
   "execution_count": 14,
   "metadata": {},
   "outputs": [
    {
     "data": {
      "text/plain": [
       "array([0., 1.], dtype=float32)"
      ]
     },
     "execution_count": 14,
     "metadata": {},
     "output_type": "execute_result"
    }
   ],
   "source": [
    "gt"
   ]
  },
  {
   "cell_type": "code",
   "execution_count": 15,
   "metadata": {},
   "outputs": [
    {
     "data": {
      "text/plain": [
       "<matplotlib.image.AxesImage at 0x7f0e7a0f9390>"
      ]
     },
     "execution_count": 15,
     "metadata": {},
     "output_type": "execute_result"
    },
    {
     "data": {
      "image/png": "[encoded data removed]",
      "text/plain": [
       "<Figure size 432x288 with 1 Axes>"
      ]
     },
     "metadata": {
      "needs_background": "light"
     },
     "output_type": "display_data"
    }
   ],
   "source": [
    "image = np.squeeze(image)\n",
    "plt.imshow(image, cmap='gray')"
   ]
  },
  {
   "cell_type": "code",
   "execution_count": 16,
   "metadata": {},
   "outputs": [],
   "source": [
    "train_dataloader = Dataloder(train_dataset, batch_size=1, shuffle=True)\n",
    "test_dataloader = Dataloder(test_dataset, batch_size=1, shuffle=True)"
   ]
  },
  {
   "cell_type": "code",
   "execution_count": 17,
   "metadata": {},
   "outputs": [
    {
     "data": {
      "text/plain": [
       "(42, 11)"
      ]
     },
     "execution_count": 17,
     "metadata": {},
     "output_type": "execute_result"
    }
   ],
   "source": [
    "len(train_dataloader), len(test_dataloader)"
   ]
  },
  {
   "cell_type": "code",
   "execution_count": 18,
   "metadata": {},
   "outputs": [
    {
     "name": "stdout",
     "output_type": "stream",
     "text": [
      "0 (1, 256, 256, 1) (1, 2)\n",
      "1 (1, 256, 256, 1) (1, 2)\n",
      "2 (1, 256, 256, 1) (1, 2)\n",
      "3 (1, 256, 256, 1) (1, 2)\n",
      "4 (1, 256, 256, 1) (1, 2)\n",
      "5 (1, 256, 256, 1) (1, 2)\n",
      "6 (1, 256, 256, 1) (1, 2)\n",
      "7 (1, 256, 256, 1) (1, 2)\n",
      "8 (1, 256, 256, 1) (1, 2)\n",
      "9 (1, 256, 256, 1) (1, 2)\n",
      "10 (1, 256, 256, 1) (1, 2)\n",
      "11 (1, 256, 256, 1) (1, 2)\n",
      "12 (1, 256, 256, 1) (1, 2)\n",
      "13 (1, 256, 256, 1) (1, 2)\n",
      "14 (1, 256, 256, 1) (1, 2)\n",
      "15 (1, 256, 256, 1) (1, 2)\n",
      "16 (1, 256, 256, 1) (1, 2)\n",
      "17 (1, 256, 256, 1) (1, 2)\n",
      "18 (1, 256, 256, 1) (1, 2)\n",
      "19 (1, 256, 256, 1) (1, 2)\n",
      "20 (1, 256, 256, 1) (1, 2)\n",
      "21 (1, 256, 256, 1) (1, 2)\n",
      "22 (1, 256, 256, 1) (1, 2)\n",
      "23 (1, 256, 256, 1) (1, 2)\n",
      "24 (1, 256, 256, 1) (1, 2)\n",
      "25 (1, 256, 256, 1) (1, 2)\n",
      "26 (1, 256, 256, 1) (1, 2)\n",
      "27 (1, 256, 256, 1) (1, 2)\n",
      "28 (1, 256, 256, 1) (1, 2)\n",
      "29 (1, 256, 256, 1) (1, 2)\n",
      "30 (1, 256, 256, 1) (1, 2)\n",
      "31 (1, 256, 256, 1) (1, 2)\n",
      "32 (1, 256, 256, 1) (1, 2)\n",
      "33 (1, 256, 256, 1) (1, 2)\n",
      "34 (1, 256, 256, 1) (1, 2)\n",
      "35 (1, 256, 256, 1) (1, 2)\n",
      "36 (1, 256, 256, 1) (1, 2)\n",
      "37 (1, 256, 256, 1) (1, 2)\n",
      "38 (1, 256, 256, 1) (1, 2)\n",
      "39 (1, 256, 256, 1) (1, 2)\n",
      "40 (1, 256, 256, 1) (1, 2)\n",
      "41 (1, 256, 256, 1) (1, 2)\n"
     ]
    }
   ],
   "source": [
    "for batch_idx, (features, targets) in enumerate(train_dataloader):\n",
    "    print(batch_idx, features.shape, targets.shape)"
   ]
  },
  {
   "cell_type": "code",
   "execution_count": null,
   "metadata": {},
   "outputs": [],
   "source": []
  },
  {
   "cell_type": "code",
   "execution_count": null,
   "metadata": {},
   "outputs": [],
   "source": []
  },
  {
   "cell_type": "code",
   "execution_count": 19,
   "metadata": {},
   "outputs": [
    {
     "name": "stdout",
     "output_type": "stream",
     "text": [
      "0 (1, 256, 256, 1) (1, 2)\n",
      "1 (1, 256, 256, 1) (1, 2)\n",
      "2 (1, 256, 256, 1) (1, 2)\n",
      "3 (1, 256, 256, 1) (1, 2)\n",
      "4 (1, 256, 256, 1) (1, 2)\n",
      "5 (1, 256, 256, 1) (1, 2)\n",
      "6 (1, 256, 256, 1) (1, 2)\n",
      "7 (1, 256, 256, 1) (1, 2)\n",
      "8 (1, 256, 256, 1) (1, 2)\n",
      "9 (1, 256, 256, 1) (1, 2)\n",
      "10 (1, 256, 256, 1) (1, 2)\n"
     ]
    }
   ],
   "source": [
    "for batch_idx, (features, targets) in enumerate(test_dataloader):\n",
    "    print(batch_idx, features.shape, targets.shape)"
   ]
  },
  {
   "cell_type": "code",
   "execution_count": null,
   "metadata": {},
   "outputs": [],
   "source": [
    "# Define callbacks for learning rate scheduling, logging and best checkpoints saving\n",
    "callbacks = [\n",
    "    keras.callbacks.ModelCheckpoint('{}/{}.h5'.format(LOG_PATH, EXPERIMENT_NAME), monitor='val_loss', save_best_only=True, mode='min'),\n",
    "    keras.callbacks.ReduceLROnPlateau(monitor='val_loss', factor=0.1, verbose=1, patience=5, mode='min'), ## new_lr = lr * factor # 5\n",
    "    keras.callbacks.EarlyStopping(monitor='val_loss', min_delta=0, verbose=1, patience=15, mode='min', restore_best_weights=True), # 8\n",
    "    keras.callbacks.CSVLogger('{}/training.csv'.format(LOG_PATH))\n",
    "]"
   ]
  },
  {
   "cell_type": "code",
   "execution_count": null,
   "metadata": {},
   "outputs": [],
   "source": []
  },
  {
   "cell_type": "code",
   "execution_count": null,
   "metadata": {},
   "outputs": [],
   "source": []
  },
  {
   "cell_type": "code",
   "execution_count": null,
   "metadata": {},
   "outputs": [],
   "source": [
    "\n",
    "start_time = time.time()\n",
    "\n",
    "\n",
    "history = model.fit_generator(\n",
    "    train_dataloader, \n",
    "    steps_per_epoch=len(train_dataloader), \n",
    "    epochs=EPOCHS, \n",
    "    callbacks=callbacks, \n",
    "    validation_data=valid_dataloader, \n",
    "    validation_steps=len(valid_dataloader),  # val samples = batch size * no of steps\n",
    ")\n",
    "\n",
    "end_time = time.time()\n",
    "print(\"--- Time taken to train : %s hours ---\" % ((end_time - start_time)//3600))"
   ]
  },
  {
   "cell_type": "code",
   "execution_count": null,
   "metadata": {},
   "outputs": [],
   "source": []
  }
 ],
 "metadata": {
  "kernelspec": {
   "display_name": "Python 3",
   "language": "python",
   "name": "python3"
  },
  "language_info": {
   "codemirror_mode": {
    "name": "ipython",
    "version": 3
   },
   "file_extension": ".py",
   "mimetype": "text/x-python",
   "name": "python",
   "nbconvert_exporter": "python",
   "pygments_lexer": "ipython3",
   "version": "3.6.10"
  }
 },
 "nbformat": 4,
 "nbformat_minor": 4
}

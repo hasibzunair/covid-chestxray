{
 "cells": [
  {
   "cell_type": "markdown",
   "metadata": {},
   "source": [
    "### Download from https://github.com/ieee8023/covid-chestxray-dataset/tree/a4409cfb0ec36ff8489d706d63e97dbd4fdac0f3\n",
    "\n",
    "Make a folder named covid and put the images and metadata.csv files in it"
   ]
  },
  {
   "cell_type": "code",
   "execution_count": null,
   "metadata": {},
   "outputs": [],
   "source": [
    "# Import libraries\n",
    "\n",
    "import os, sys\n",
    "import matplotlib.pyplot as plt\n",
    "%matplotlib inline\n",
    "import pandas as pd\n",
    "import numpy as np\n",
    "import keras\n",
    "from sklearn.model_selection import train_test_split\n",
    "from skimage.transform import resize\n",
    "from skimage import io\n",
    "\n",
    "ROOT_DIR = os.path.abspath(\"../\")\n",
    "\n",
    "sys.path.append(ROOT_DIR)  \n",
    "import helpers\n",
    "\n",
    "\n",
    "DATASET_NAME = \"covid\"\n",
    "DATA_PATH = os.path.join(ROOT_DIR, \"dataset\")\n",
    "COVID_DATASET_PATH = os.path.join(DATA_PATH, DATASET_NAME)"
   ]
  },
  {
   "cell_type": "markdown",
   "metadata": {},
   "source": [
    "#### Read labels"
   ]
  },
  {
   "cell_type": "code",
   "execution_count": null,
   "metadata": {},
   "outputs": [],
   "source": [
    "dt = pd.read_csv(os.path.join(COVID_DATASET_PATH, 'metadata.csv'))\n",
    "dt = dt[[\"finding\", \"view\", \"modality\", \"filename\"]].dropna()\n",
    "# Remove all CTs\n",
    "dt = dt[dt.modality != \"CT\"]\n",
    "# Only samples with COVID-19\n",
    "dt = dt[dt.finding == \"COVID-19\"]\n",
    "\n",
    "dt.head()"
   ]
  },
  {
   "cell_type": "code",
   "execution_count": null,
   "metadata": {},
   "outputs": [],
   "source": [
    "# Labels\n",
    "labels = dt[[\"finding\"]].values"
   ]
  },
  {
   "cell_type": "code",
   "execution_count": null,
   "metadata": {},
   "outputs": [],
   "source": [
    "image_path = dt[\"filename\"].values\n",
    "image_path[:10]"
   ]
  },
  {
   "cell_type": "code",
   "execution_count": null,
   "metadata": {},
   "outputs": [],
   "source": [
    "# make dir\n",
    "train_covid_images = os.path.join(DATA_PATH, \"cxr\", \"train\", \"cov19\")\n",
    "test_covid_images = os.path.join(DATA_PATH, \"cxr\", \"test\", \"cov19\")\n",
    "\n",
    "helpers.create_directory(train_covid_images)\n",
    "helpers.create_directory(test_covid_images)"
   ]
  },
  {
   "cell_type": "code",
   "execution_count": null,
   "metadata": {},
   "outputs": [],
   "source": [
    "# slicing index should be the minmum number across all the dataset classes\n",
    "\n",
    "tr_imgs = [os.path.join(COVID_DATASET_PATH, \"images\", x) for x in image_path[:180]]\n",
    "test_imgs = [os.path.join(COVID_DATASET_PATH, \"images\", x) for x in image_path[180:]]\n",
    "\n",
    "len(tr_imgs), len(test_imgs)"
   ]
  },
  {
   "cell_type": "code",
   "execution_count": null,
   "metadata": {},
   "outputs": [],
   "source": [
    "import shutil\n",
    "\n",
    "for file in tr_imgs:\n",
    "    shutil.copy(file, train_covid_images)\n",
    "    \n",
    "for file in test_imgs:\n",
    "    shutil.copy(file, test_covid_images)"
   ]
  },
  {
   "cell_type": "code",
   "execution_count": null,
   "metadata": {},
   "outputs": [],
   "source": [
    "# COVID: 226 -> 180 + 46"
   ]
  },
  {
   "cell_type": "code",
   "execution_count": null,
   "metadata": {},
   "outputs": [],
   "source": []
  }
 ],
 "metadata": {
  "kernelspec": {
   "display_name": "Python 3",
   "language": "python",
   "name": "python3"
  },
  "language_info": {
   "codemirror_mode": {
    "name": "ipython",
    "version": 3
   },
   "file_extension": ".py",
   "mimetype": "text/x-python",
   "name": "python",
   "nbconvert_exporter": "python",
   "pygments_lexer": "ipython3",
   "version": "3.6.10"
  }
 },
 "nbformat": 4,
 "nbformat_minor": 4
}

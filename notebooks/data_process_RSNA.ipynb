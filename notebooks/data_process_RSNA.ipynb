{
 "cells": [
  {
   "cell_type": "markdown",
   "metadata": {},
   "source": [
    "### Download data from https://academictorrents.com/details/95588a735c9ae4d123f3ca408e56570409bcf2a9"
   ]
  },
  {
   "cell_type": "code",
   "execution_count": null,
   "metadata": {},
   "outputs": [],
   "source": [
    "# Import libraries\n",
    "\n",
    "import os, sys\n",
    "import matplotlib.pyplot as plt\n",
    "%matplotlib inline\n",
    "import pandas as pd\n",
    "import numpy as np\n",
    "import keras\n",
    "from sklearn.model_selection import train_test_split\n",
    "from skimage.transform import resize\n",
    "from skimage import io\n",
    "\n",
    "ROOT_DIR = os.path.abspath(\"../\")\n",
    "\n",
    "sys.path.append(ROOT_DIR)  \n",
    "import helpers\n",
    "\n",
    "\n",
    "DATASET_NAME = \"kaggle-pneumonia-jpg\"\n",
    "DATA_PATH = os.path.join(ROOT_DIR, \"dataset\")\n",
    "RSNA_DATASET_PATH = os.path.join(DATA_PATH, DATASET_NAME)"
   ]
  },
  {
   "cell_type": "markdown",
   "metadata": {},
   "source": [
    "#### Read labels"
   ]
  },
  {
   "cell_type": "code",
   "execution_count": null,
   "metadata": {},
   "outputs": [],
   "source": [
    "dt = pd.read_csv(os.path.join(RSNA_DATASET_PATH, 'stage_2_train_labels.csv'))\n",
    "dt = dt[[\"patientId\", \"Target\"]].dropna()\n",
    "dt.head()"
   ]
  },
  {
   "cell_type": "code",
   "execution_count": null,
   "metadata": {},
   "outputs": [],
   "source": [
    "# Labels\n",
    "labels = dt[[\"Target\"]].values"
   ]
  },
  {
   "cell_type": "code",
   "execution_count": null,
   "metadata": {},
   "outputs": [],
   "source": [
    "image_path = [ x+\".jpg\" for x in dt[\"patientId\"].values]\n",
    "image_path[:10]"
   ]
  },
  {
   "cell_type": "code",
   "execution_count": null,
   "metadata": {},
   "outputs": [],
   "source": [
    "len(image_path)"
   ]
  },
  {
   "cell_type": "code",
   "execution_count": null,
   "metadata": {},
   "outputs": [],
   "source": [
    "normal = []\n",
    "pneu = []\n",
    "\n",
    "for path, gt in zip(image_path, labels):\n",
    "    if gt[0] == 0:\n",
    "        normal.append(path)\n",
    "    else:\n",
    "        pneu.append(path)\n",
    "        \n",
    "len(normal), len(pneu)"
   ]
  },
  {
   "cell_type": "code",
   "execution_count": null,
   "metadata": {},
   "outputs": [],
   "source": [
    "# make dir\n",
    "train_normal_images = os.path.join(DATA_PATH, \"cxr\", \"train\", \"normal\")\n",
    "train_pneu_images = os.path.join(DATA_PATH, \"cxr\", \"train\", \"pneumonia\")\n",
    "\n",
    "test_normal_images = os.path.join(DATA_PATH, \"cxr\", \"test\", \"normal\")\n",
    "test_pneu_images = os.path.join(DATA_PATH, \"cxr\", \"test\", \"pneumonia\")\n",
    "\n",
    "helpers.create_directory(train_normal_images)\n",
    "helpers.create_directory(train_pneu_images)\n",
    "\n",
    "helpers.create_directory(test_normal_images)\n",
    "helpers.create_directory(test_pneu_images)"
   ]
  },
  {
   "cell_type": "code",
   "execution_count": null,
   "metadata": {},
   "outputs": [],
   "source": [
    "# slicing index should be the minmum number across all the dataset classes\n",
    "\n",
    "tr_imgs_n = [os.path.join(RSNA_DATASET_PATH, \"stage_2_train_images_jpg\", x) for x in normal[:16537]]\n",
    "tr_imgs_p = [os.path.join(RSNA_DATASET_PATH, \"stage_2_train_images_jpg\", x) for x in pneu[:7644]]\n",
    "\n",
    "test_imgs_n = [os.path.join(RSNA_DATASET_PATH, \"stage_2_train_images_jpg\", x) for x in normal[16537:]]\n",
    "test_imgs_p = [os.path.join(RSNA_DATASET_PATH, \"stage_2_train_images_jpg\", x) for x in pneu[7644:]]\n",
    "\n",
    "len(tr_imgs_n), len(tr_imgs_p), len(test_imgs_n), len(test_imgs_p)"
   ]
  },
  {
   "cell_type": "code",
   "execution_count": null,
   "metadata": {},
   "outputs": [],
   "source": [
    "import shutil\n",
    "\n",
    "for file in tr_imgs_n:\n",
    "    shutil.copy(file, train_normal_images)\n",
    "    \n",
    "for file in test_imgs_n:\n",
    "    shutil.copy(file, test_normal_images)\n",
    "    \n",
    "for file in tr_imgs_p:\n",
    "    shutil.copy(file, train_pneu_images)\n",
    "\n",
    "for file in test_imgs_p:\n",
    "    shutil.copy(file, test_pneu_images)"
   ]
  },
  {
   "cell_type": "code",
   "execution_count": null,
   "metadata": {},
   "outputs": [],
   "source": [
    "#Health samples: 20672\n",
    "#Pneumonia: 6012\n",
    "#COVID: 226 \n",
    "\n",
    "# 20672 -> 16537 + 4135\n",
    "# 6012 -> 4758 + 1254\n",
    "# 226-> 180 + 46"
   ]
  },
  {
   "cell_type": "code",
   "execution_count": null,
   "metadata": {},
   "outputs": [],
   "source": []
  }
 ],
 "metadata": {
  "kernelspec": {
   "display_name": "Python 3",
   "language": "python",
   "name": "python3"
  },
  "language_info": {
   "codemirror_mode": {
    "name": "ipython",
    "version": 3
   },
   "file_extension": ".py",
   "mimetype": "text/x-python",
   "name": "python",
   "nbconvert_exporter": "python",
   "pygments_lexer": "ipython3",
   "version": "3.6.9"
  }
 },
 "nbformat": 4,
 "nbformat_minor": 4
}

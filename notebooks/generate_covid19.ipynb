{
 "cells": [
  {
   "cell_type": "code",
   "execution_count": null,
   "metadata": {},
   "outputs": [],
   "source": [
    "import os, sys\n",
    "import scipy.misc\n",
    "from glob import glob\n",
    "import numpy as np\n",
    "import random \n",
    "import shutil \n",
    "import cv2\n",
    "import matplotlib.pyplot as plt\n",
    "from keras.models import load_model\n",
    "from keras_contrib.layers.normalization.instancenormalization import InstanceNormalization\n",
    "\n",
    "\n",
    "base_path = os.path.abspath(\"../\")\n",
    "\n",
    "sys.path.append(base_path)\n",
    "import helpers"
   ]
  },
  {
   "cell_type": "code",
   "execution_count": null,
   "metadata": {},
   "outputs": [],
   "source": [
    "def predict(model, img):\n",
    "    \n",
    "    if img.shape[0] != 256:\n",
    "        img = scipy.misc.imresize(img, (256,256))\n",
    "    \n",
    "    # Normalize image as the trained distribution\n",
    "    img = img/127.5 - 1.\n",
    "    \n",
    "    img = np.expand_dims(img, axis=0)\n",
    "    img = model.predict(img)\n",
    "    img = np.squeeze(img, axis=0)\n",
    "    \n",
    "    # Rescale to [0,1]\n",
    "    img = 0.5 * img + 0.5 \n",
    "    img = img * 255.0\n",
    "    return img\n",
    "\n",
    "\n",
    "def load_img(path):\n",
    "    # read image\n",
    "    img = scipy.misc.imread(path, mode='RGB').astype(np.float)\n",
    "    # predict\n",
    "    img = predict(model, img)\n",
    "    return img "
   ]
  },
  {
   "cell_type": "code",
   "execution_count": null,
   "metadata": {},
   "outputs": [],
   "source": [
    "name = \"n2c\"\n",
    "base_path = os.path.abspath(\"../\")\n",
    "model_path = os.path.join(base_path, \"models\", name)\n",
    "\n",
    "# Load translation model\n",
    "model = None\n",
    "model_name = 'n2c.h5'\n",
    "model = load_model(os.path.join(model_path, model_name), custom_objects={'InstanceNormalization':InstanceNormalization})\n",
    "model.summary()"
   ]
  },
  {
   "cell_type": "code",
   "execution_count": null,
   "metadata": {},
   "outputs": [],
   "source": [
    "# Image paths\n",
    "normal = os.path.join(base_path, \"dataset/cxr/train/normal\")\n",
    "pneu = os.path.join(base_path, \"dataset/cxr/train/pneumonia\")\n",
    "\n",
    "# Destinations\n",
    "dest_path1 = os.path.join(base_path, \"dataset/gen/from_normal\")\n",
    "dest_path2 = os.path.join(base_path, \"dataset/gen/from_pneu\")\n",
    "\n",
    "helpers.create_directory(dest_path1)\n",
    "helpers.create_directory(dest_path2)"
   ]
  },
  {
   "cell_type": "code",
   "execution_count": null,
   "metadata": {},
   "outputs": [],
   "source": [
    "normal_path = [os.path.join(normal, x) for x in os.listdir(normal)]\n",
    "pneu_path = [os.path.join(pneu, x) for x in os.listdir(pneu)]\n",
    "\n",
    "len(normal_path), len(pneu_path)"
   ]
  },
  {
   "cell_type": "code",
   "execution_count": null,
   "metadata": {},
   "outputs": [],
   "source": [
    "normal_path[:3]"
   ]
  },
  {
   "cell_type": "code",
   "execution_count": null,
   "metadata": {},
   "outputs": [],
   "source": [
    "ct=1\n",
    "for path in normal_path[:]:\n",
    "    img = load_img(path)\n",
    "    scipy.misc.imsave(\"{}/{}.jpg\".format(dest_path1,ct), img)\n",
    "    ct+=1"
   ]
  },
  {
   "cell_type": "code",
   "execution_count": null,
   "metadata": {},
   "outputs": [],
   "source": [
    "name = \"p2c\"\n",
    "base_path = os.path.abspath(\"../\")\n",
    "model_path = os.path.join(base_path, \"models\", name)\n",
    "\n",
    "# Load translation model\n",
    "model = None\n",
    "model_name = 'p2c.h5'\n",
    "model = load_model(os.path.join(model_path, model_name), custom_objects={'InstanceNormalization':InstanceNormalization})\n",
    "model.summary()"
   ]
  },
  {
   "cell_type": "code",
   "execution_count": null,
   "metadata": {},
   "outputs": [],
   "source": [
    "ct=1\n",
    "for path in pneu_path[:]:\n",
    "    img = load_img(path)\n",
    "    scipy.misc.imsave(\"{}/{}_g2.jpg\".format(dest_path2,ct), img)\n",
    "    ct+=1"
   ]
  },
  {
   "cell_type": "code",
   "execution_count": null,
   "metadata": {},
   "outputs": [],
   "source": []
  },
  {
   "cell_type": "code",
   "execution_count": null,
   "metadata": {},
   "outputs": [],
   "source": []
  },
  {
   "cell_type": "code",
   "execution_count": null,
   "metadata": {},
   "outputs": [],
   "source": []
  }
 ],
 "metadata": {
  "kernelspec": {
   "display_name": "Python 3",
   "language": "python",
   "name": "python3"
  },
  "language_info": {
   "codemirror_mode": {
    "name": "ipython",
    "version": 3
   },
   "file_extension": ".py",
   "mimetype": "text/x-python",
   "name": "python",
   "nbconvert_exporter": "python",
   "pygments_lexer": "ipython3",
   "version": "3.6.10"
  }
 },
 "nbformat": 4,
 "nbformat_minor": 4
}
